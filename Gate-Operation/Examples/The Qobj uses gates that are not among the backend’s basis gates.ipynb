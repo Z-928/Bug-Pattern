{
 "cells": [
  {
   "cell_type": "markdown",
   "metadata": {},
   "source": [
    "## Project1：Cannot load QASM circuits generated with MCX gates"
   ]
  },
  {
   "cell_type": "markdown",
   "metadata": {},
   "source": [
    "https://github.com/Qiskit/qiskit-terra/issues/4943"
   ]
  },
  {
   "cell_type": "code",
   "execution_count": null,
   "metadata": {},
   "outputs": [],
   "source": [
    "import qiskit as qk\n",
    "qc.mcx([0,1],2)\n",
    "qk.QuantumCircuit.from_qasm_str(qc.qasm())\n",
    "qk.QuantumCircuit.from_qasm_str(qc.qasm()) == qc\n",
    "True\n",
    "qc = qk.QuantumCircuit(4)\n",
    "qc.mcx([0,1,2], 3)\n",
    "print(qc.qasm())\n",
    "OPENQASM 2.0;\n",
    "include \"qelib1.inc\";\n",
    "qreg q[4];\n",
    "mcx_gray q[0],q[1],q[2],q[3];\n",
    "qk.QuantumCircuit.from_qasm_str(qc.qasm())"
   ]
  },
  {
   "cell_type": "code",
   "execution_count": null,
   "metadata": {},
   "outputs": [],
   "source": [
    "Traceback (most recent call last):\n",
    "  File \"<stdin>\", line 1, in <module>\n",
    "  File \"/Users/kevin.krsulichibm.com/q/qiskit-terra/qiskit/circuit/quantumcircuit.py\", line 1715, in from_qasm_str\n",
    "    return _circuit_from_qasm(qasm)\n",
    "  File \"/Users/kevin.krsulichibm.com/q/qiskit-terra/qiskit/circuit/quantumcircuit.py\", line 2261, in _circuit_from_qasm\n",
    "    ast = qasm.parse()\n",
    "  File \"/Users/kevin.krsulichibm.com/q/qiskit-terra/qiskit/qasm/qasm.py\", line 54, in parse\n",
    "    return qasm_p.parse(self._data)\n",
    "  File \"/Users/kevin.krsulichibm.com/q/qiskit-terra/qiskit/qasm/qasmparser.py\", line 1070, in parse\n",
    "    self.parser.parse(data, lexer=self.lexer, debug=self.parse_deb)\n",
    "  File \"/Users/kevin.krsulichibm.com/q/qiskit-terra/lib/python3.5/site-packages/ply/yacc.py\", line 333, in parse\n",
    "    return self.parseopt_notrack(input, lexer, debug, tracking, tokenfunc)\n",
    "  File \"/Users/kevin.krsulichibm.com/q/qiskit-terra/lib/python3.5/site-packages/ply/yacc.py\", line 1120, in parseopt_notrack\n",
    "    p.callable(pslice)\n",
    "  File \"/Users/kevin.krsulichibm.com/q/qiskit-terra/qiskit/qasm/qasmparser.py\", line 638, in p_unitary_op_2\n",
    "    self.verify_as_gate(program[1], program[2])\n",
    "  File \"/Users/kevin.krsulichibm.com/q/qiskit-terra/qiskit/qasm/qasmparser.py\", line 130, in verify_as_gate\n",
    "    + \"', line\", str(obj.line), 'file', obj.file)\n",
    "qiskit.qasm.exceptions.QasmError: \"Cannot find gate definition for 'mcx_gray', line 4 file \""
   ]
  },
  {
   "cell_type": "markdown",
   "metadata": {},
   "source": [
    "Reason：mcx_gray is not in qelib1.inc\n",
    "      The definition for the gate needs to be written to as a custom gate definition to the output QASM        string.\n"
   ]
  },
  {
   "cell_type": "markdown",
   "metadata": {},
   "source": [
    "## project2:Qasm parsing error for custom gates. "
   ]
  },
  {
   "cell_type": "markdown",
   "metadata": {},
   "source": [
    "https://github.com/Qiskit/qiskit-terra/issues/5036"
   ]
  },
  {
   "cell_type": "code",
   "execution_count": null,
   "metadata": {},
   "outputs": [],
   "source": [
    "from qiskit.circuit import Gate\n",
    "g = Gate('foo', 1, [])\n",
    "qc.append(g, [0])\n",
    "print(qc.qasm())\n",
    "OPENQASM 2.0;\n",
    "include \"qelib1.inc\";\n",
    "qreg q[2];\n",
    "foo q[0];\n",
    "qk.QuantumCircuit.from_qasm_str((qc.qasm())"
   ]
  },
  {
   "cell_type": "code",
   "execution_count": null,
   "metadata": {},
   "outputs": [],
   "source": [
    "qiskit.qasm.exceptions.QasmError: \"Cannot find gate definition for 'foo', line 8 file \""
   ]
  },
  {
   "cell_type": "markdown",
   "metadata": {},
   "source": [
    "Problem:User-defined Gate objects are not properly being exported to qasm as opaque gates.  \n",
    "Solution:Can declare a custom opaque gate using the opaque statement,or a non-opaque gate using the gate statement"
   ]
  },
  {
   "cell_type": "code",
   "execution_count": null,
   "metadata": {},
   "outputs": [],
   "source": [
    "qasm = '''\n",
    "OPENQASM 2.0;\n",
    "include \"qelib1.inc\";\n",
    "opaque test q0;\n",
    "qreg q[1];\n",
    "test q[0];\n",
    "'''\n",
    "qc.QuantumCircuit.from_qasm_str(qasm).draw()"
   ]
  },
  {
   "cell_type": "code",
   "execution_count": null,
   "metadata": {},
   "outputs": [],
   "source": [
    "qasm = '''\n",
    "OPENQASM 2.0;\n",
    "include \"qelib1.inc\";\n",
    "gate circuit8 q0,q1 {cx q0,q1; cx q1,q0; }\n",
    "qreg q[2];\n",
    "h q[0];\n",
    "h q[1];\n",
    "circuit8 q[0],q[1];\n",
    "'''\n",
    "qc.draw()"
   ]
  },
  {
   "cell_type": "code",
   "execution_count": null,
   "metadata": {},
   "outputs": [],
   "source": []
  }
 ],
 "metadata": {
  "kernelspec": {
   "display_name": "Python 3",
   "language": "python",
   "name": "python3"
  },
  "language_info": {
   "codemirror_mode": {
    "name": "ipython",
    "version": 3
   },
   "file_extension": ".py",
   "mimetype": "text/x-python",
   "name": "python",
   "nbconvert_exporter": "python",
   "pygments_lexer": "ipython3",
   "version": "3.8.5"
  }
 },
 "nbformat": 4,
 "nbformat_minor": 4
}
