{
 "cells": [
  {
   "cell_type": "markdown",
   "metadata": {},
   "source": [
    "## Project1:simulating quantum circuits with noise"
   ]
  },
  {
   "cell_type": "markdown",
   "metadata": {},
   "source": [
    "https://github.com/Qiskit/qiskit-aer"
   ]
  },
  {
   "cell_type": "code",
   "execution_count": null,
   "metadata": {},
   "outputs": [],
   "source": [
    "import qiskit\n",
    "from qiskit import IBMQ\n",
    "from qiskit.providers.aer import QasmSimulator\n",
    "\n",
    "# Generate 3-qubit GHZ state\n",
    "circ = qiskit.QuantumCircuit(3, 3)\n",
    "circ.h(0)\n",
    "circ.cx(0, 1)\n",
    "circ.cx(1, 2)\n",
    "circ.measure([0, 1, 2], [0, 1 ,2])\n",
    "\n",
    "# Construct an ideal simulator\n",
    "sim = QasmSimulator()\n",
    "\n",
    "# Perform an ideal simulation\n",
    "result_ideal = qiskit.execute(circ, sim).result()\n",
    "counts_ideal = result_ideal.get_counts(0)\n",
    "print('Counts(ideal):', counts_ideal)\n",
    "# Counts(ideal): {'000': 493, '111': 531}\n",
    "\n",
    "# Construct a noisy simulator backend from an IBMQ backend\n",
    "# This simulator backend will be automatically configured\n",
    "# using the device configuration and noise mode\n",
    "provider = IBMQ.load_account()\n",
    "vigo_backend = provider.get_backend('ibmq_vigo')\n",
    "vigo_sim = QasmSimulator.from_backend(vigo_backend)\n",
    "\n",
    "# Perform noisy simulation\n",
    "result_noise = qiskit.execute(circ, vigo_sim).result()\n",
    "counts_noise = result_noise.get_counts(0)\n",
    "\n",
    "print('Counts(noise):', counts_noise)\n",
    "# Counts(noise): {'000': 492, '001': 6, '010': 8, '011': 14, '100': 3, '101': 14, '110': 18, '111': 469}"
   ]
  },
  {
   "cell_type": "markdown",
   "metadata": {},
   "source": [
    "Wrong Code"
   ]
  },
  {
   "cell_type": "code",
   "execution_count": null,
   "metadata": {},
   "outputs": [],
   "source": [
    "6    circ = qiskit.QuantumCircuit(3, 2)"
   ]
  }
 ],
 "metadata": {
  "kernelspec": {
   "display_name": "Python 3",
   "language": "python",
   "name": "python3"
  },
  "language_info": {
   "codemirror_mode": {
    "name": "ipython",
    "version": 3
   },
   "file_extension": ".py",
   "mimetype": "text/x-python",
   "name": "python",
   "nbconvert_exporter": "python",
   "pygments_lexer": "ipython3",
   "version": "3.8.5"
  }
 },
 "nbformat": 4,
 "nbformat_minor": 4
}
