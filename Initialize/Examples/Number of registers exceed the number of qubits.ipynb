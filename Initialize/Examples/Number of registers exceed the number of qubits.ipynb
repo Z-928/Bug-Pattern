{
 "cells": [
  {
   "cell_type": "markdown",
   "metadata": {},
   "source": [
    "## Project1:Ground state solvers"
   ]
  },
  {
   "cell_type": "markdown",
   "metadata": {},
   "source": [
    "https://github.com/Qiskit/qiskit-aqua/issues/1469"
   ]
  },
  {
   "cell_type": "markdown",
   "metadata": {},
   "source": [
    "Correct Code"
   ]
  },
  {
   "cell_type": "code",
   "execution_count": null,
   "metadata": {},
   "outputs": [],
   "source": [
    "from qiskit.aqua.algorithms import VQE\n",
    "from qiskit.circuit.library import TwoLocal\n",
    "\n",
    "num_qubits = 4\n",
    "tl_circuit = TwoLocal(num_qubits, ['h', 'rx'], 'cz',\n",
    "                      entanglement='full', reps=3, parameter_prefix = 'y')\n",
    "\n",
    "tl_circuit.draw(output = 'mpl')\n",
    "\n",
    "another_solver = VQE(var_form = tl_circuit,\n",
    "                     quantum_instance = QuantumInstance(BasicAer.get_backend('statevector_simulator')))"
   ]
  },
  {
   "cell_type": "markdown",
   "metadata": {},
   "source": [
    "Wrong Code"
   ]
  },
  {
   "cell_type": "code",
   "execution_count": null,
   "metadata": {},
   "outputs": [],
   "source": [
    "from qiskit.aqua.algorithms import VQE\n",
    "from qiskit.circuit.library import TwoLocal\n",
    "\n",
    "num_qubits = 1\n",
    "tl_circuit = TwoLocal(num_qubits, ['h', 'ry'], 'cz',\n",
    "                      entanglement='Linear', reps=2, parameter_prefix = 'th')\n",
    "callback = Callback()\n",
    "\n",
    "#backend = Simulator.aer_manhattan_simulator\n",
    "backend = Aer.get_backend('qasm_simulator')\n",
    "anothor_solver = VQE(var_form = t1_circuit, optimazor=SPSA(maxiter=250),callback=callback,\n",
    "                    quantum_instance = QuantumInstance(backend, shot=2048))\n",
    "\n",
    "tl_circuit.draw()"
   ]
  }
 ],
 "metadata": {
  "kernelspec": {
   "display_name": "Python 3",
   "language": "python",
   "name": "python3"
  },
  "language_info": {
   "codemirror_mode": {
    "name": "ipython",
    "version": 3
   },
   "file_extension": ".py",
   "mimetype": "text/x-python",
   "name": "python",
   "nbconvert_exporter": "python",
   "pygments_lexer": "ipython3",
   "version": "3.8.5"
  }
 },
 "nbformat": 4,
 "nbformat_minor": 4
}
