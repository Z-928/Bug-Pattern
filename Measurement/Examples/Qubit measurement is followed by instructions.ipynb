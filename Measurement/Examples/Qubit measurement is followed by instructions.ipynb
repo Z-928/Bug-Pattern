{
 "cells": [
  {
   "cell_type": "markdown",
   "metadata": {},
   "source": [
    "## Project1:"
   ]
  },
  {
   "cell_type": "code",
   "execution_count": 21,
   "metadata": {},
   "outputs": [
    {
     "data": {
      "image/png": "[encoded data removed]",
      "text/plain": [
       "<Figure size 534.395x264.88 with 1 Axes>"
      ]
     },
     "execution_count": 21,
     "metadata": {},
     "output_type": "execute_result"
    }
   ],
   "source": [
    "qr = QuantumRegister(3)\n",
    "cr = ClassicalRegister(2)\n",
    "qc = QuantumCircuit(qr,cr)\n",
    "qc.reset(range(3))\n",
    "qc.h(1)\n",
    "qc.cx([1,0],[2,1])\n",
    "qc.h(0)\n",
    "qc.measure([0,1], [0,1])\n",
    "qc.z(2).c_if(cr, 1)\n",
    "qc.x(2).c_if(cr, 2)\n",
    "qc.draw('mpl')"
   ]
  },
  {
   "cell_type": "code",
   "execution_count": 22,
   "metadata": {},
   "outputs": [
    {
     "data": {
      "image/png": "[encoded data removed]",
      "text/plain": [
       "<Figure size 353.795x264.88 with 1 Axes>"
      ]
     },
     "execution_count": 22,
     "metadata": {},
     "output_type": "execute_result"
    }
   ],
   "source": [
    "qr = QuantumRegister(3)\n",
    "cr = ClassicalRegister(3)\n",
    "qc = QuantumCircuit(qr,cr)\n",
    "qc.h(range(2))\n",
    "qc.measure(0, 0)\n",
    "qc.measure(1, 1)\n",
    "qc.z(2).c_if(cr, 4)\n",
    "qc.draw('mpl')"
   ]
  },
  {
   "cell_type": "markdown",
   "metadata": {},
   "source": [
    "Reason:Can’t be conditional on measurement.And cannot be displayed before measurement."
   ]
  },
  {
   "cell_type": "markdown",
   "metadata": {},
   "source": [
    "## Project2:quantum teleportation protocol"
   ]
  },
  {
   "cell_type": "markdown",
   "metadata": {},
   "source": [
    "https://stackoverflow.com/questions/60918011/implement-quantum-teleportation-in-qiskit"
   ]
  },
  {
   "cell_type": "code",
   "execution_count": 2,
   "metadata": {},
   "outputs": [
    {
     "name": "stdout",
     "output_type": "stream",
     "text": [
      "001\n"
     ]
    },
    {
     "data": {
      "text/html": [
       "<pre style=\"word-wrap: normal;white-space: pre;background: #fff0;line-height: 1.1;font-family: &quot;Courier New&quot;,Courier,monospace\">     ┌───┐ ░            ░      ┌───┐ ░ ┌─┐              \n",
       "q_0: ┤ X ├─░────────────░───■──┤ H ├─░─┤M├─────────■────\n",
       "     └───┘ ░ ┌───┐      ░ ┌─┴─┐└───┘ ░ └╥┘┌─┐      │    \n",
       "q_1: ──────░─┤ H ├──■───░─┤ X ├──────░──╫─┤M├──■───┼────\n",
       "           ░ └───┘┌─┴─┐ ░ └───┘      ░  ║ └╥┘┌─┴─┐ │ ┌─┐\n",
       "q_2: ──────░──────┤ X ├─░────────────░──╫──╫─┤ X ├─■─┤M├\n",
       "           ░      └───┘ ░            ░  ║  ║ └───┘   └╥┘\n",
       "c: 3/═══════════════════════════════════╩══╩══════════╩═\n",
       "                                        0  1          2 </pre>"
      ],
      "text/plain": [
       "     ┌───┐ ░            ░      ┌───┐ ░ ┌─┐              \n",
       "q_0: ┤ X ├─░────────────░───■──┤ H ├─░─┤M├─────────■────\n",
       "     └───┘ ░ ┌───┐      ░ ┌─┴─┐└───┘ ░ └╥┘┌─┐      │    \n",
       "q_1: ──────░─┤ H ├──■───░─┤ X ├──────░──╫─┤M├──■───┼────\n",
       "           ░ └───┘┌─┴─┐ ░ └───┘      ░  ║ └╥┘┌─┴─┐ │ ┌─┐\n",
       "q_2: ──────░──────┤ X ├─░────────────░──╫──╫─┤ X ├─■─┤M├\n",
       "           ░      └───┘ ░            ░  ║  ║ └───┘   └╥┘\n",
       "c: 3/═══════════════════════════════════╩══╩══════════╩═\n",
       "                                        0  1          2 "
      ]
     },
     "execution_count": 2,
     "metadata": {},
     "output_type": "execute_result"
    }
   ],
   "source": [
    "from qiskit import *\n",
    "\n",
    "qc = QuantumCircuit(3, 3)\n",
    "\n",
    "qc.x(0) #q -> 1\n",
    "qc.barrier()\n",
    "\n",
    "qc.h(1)\n",
    "qc.cx(1, 2)\n",
    "qc.barrier()\n",
    "# Next, apply the teleportation protocol.\n",
    "qc.cx(0, 1)\n",
    "qc.h(0)\n",
    "qc.barrier()\n",
    "# We measure these qubits and use the classical results to perform an operation\n",
    "qc.measure(0, 0)\n",
    "qc.measure(1, 1)\n",
    "qc.cx(1, 2)\n",
    "qc.cz(0, 2)\n",
    "#qc.barrier()\n",
    "backend = Aer.get_backend('qasm_simulator')\n",
    "job = execute(qc, backend, shots=1, memory=True).result()\n",
    "result = job.get_memory()[0]\n",
    "qc.measure(2, 2)\n",
    "print(job.get_memory()[0]) #q = 0\n",
    "qc.draw()"
   ]
  },
  {
   "cell_type": "markdown",
   "metadata": {},
   "source": [
    "The user can't get q_3 rightly.It's because he use the qubits entangled after measurement"
   ]
  },
  {
   "cell_type": "code",
   "execution_count": null,
   "metadata": {},
   "outputs": [],
   "source": []
  }
 ],
 "metadata": {
  "kernelspec": {
   "display_name": "Python 3",
   "language": "python",
   "name": "python3"
  },
  "language_info": {
   "codemirror_mode": {
    "name": "ipython",
    "version": 3
   },
   "file_extension": ".py",
   "mimetype": "text/x-python",
   "name": "python",
   "nbconvert_exporter": "python",
   "pygments_lexer": "ipython3",
   "version": "3.8.5"
  }
 },
 "nbformat": 4,
 "nbformat_minor": 4
}
